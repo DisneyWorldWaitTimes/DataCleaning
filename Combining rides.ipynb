{
 "cells": [
  {
   "cell_type": "code",
   "execution_count": 1,
   "id": "intimate-journey",
   "metadata": {},
   "outputs": [
    {
     "name": "stdout",
     "output_type": "stream",
     "text": [
      "space_mountain.csv\n",
      "carousel_of_progress.csv\n",
      "it_s_a_small_world.csv\n",
      "peoplemover.csv\n",
      "regal_carrousel.csv\n",
      "7_dwarfs_train.csv\n",
      "mad_tea_party.csv\n",
      "pirates_of_caribbean.csv\n",
      "magic_carpets.csv\n",
      "dumbo.csv\n",
      "winnie_the_pooh.csv\n",
      "astro_orbiter.csv\n",
      "tom_land_speedway.csv\n",
      "barnstormer.csv\n",
      "jungle_cruise.csv\n",
      "buzz_lightyear.csv\n",
      "big_thunder_mtn.csv\n",
      "haunted_mansion.csv\n",
      "peter_pan_s_flight.csv\n",
      "main_st_vehicles.csv\n",
      "splash_mountain.csv\n"
     ]
    }
   ],
   "source": [
    "import glob, os\n",
    "os.chdir(\"/home/jovyan/work/resources\")\n",
    "for file in glob.glob(\"*.csv\"):\n",
    "    print(file)"
   ]
  },
  {
   "cell_type": "code",
   "execution_count": 2,
   "id": "apparent-grain",
   "metadata": {},
   "outputs": [],
   "source": [
    "import pandas as pd\n",
    "doc = pd.DataFrame\n",
    "for file in glob.glob(\"*.csv\"):\n",
    "    if doc.empty:\n",
    "        doc = pd.read_csv(file)\n",
    "        doc['ride'] = file\n",
    "    else:\n",
    "        doc1 = pd.read_csv(file)\n",
    "        doc1['ride'] = file\n",
    "        doc = pd.concat([doc,doc1],ignore_index = True)"
   ]
  },
  {
   "cell_type": "code",
   "execution_count": 3,
   "id": "ready-trigger",
   "metadata": {},
   "outputs": [
    {
     "data": {
      "text/plain": [
       "array(['space_mountain.csv', 'carousel_of_progress.csv',\n",
       "       'it_s_a_small_world.csv', 'peoplemover.csv', 'regal_carrousel.csv',\n",
       "       '7_dwarfs_train.csv', 'mad_tea_party.csv',\n",
       "       'pirates_of_caribbean.csv', 'magic_carpets.csv', 'dumbo.csv',\n",
       "       'winnie_the_pooh.csv', 'astro_orbiter.csv',\n",
       "       'tom_land_speedway.csv', 'barnstormer.csv', 'jungle_cruise.csv',\n",
       "       'buzz_lightyear.csv', 'big_thunder_mtn.csv', 'haunted_mansion.csv',\n",
       "       'peter_pan_s_flight.csv', 'splash_mountain.csv'], dtype=object)"
      ]
     },
     "execution_count": 3,
     "metadata": {},
     "output_type": "execute_result"
    }
   ],
   "source": [
    "doc.ride.unique()"
   ]
  },
  {
   "cell_type": "code",
   "execution_count": 4,
   "id": "divided-mystery",
   "metadata": {},
   "outputs": [
    {
     "data": {
      "text/html": [
       "<div>\n",
       "<style scoped>\n",
       "    .dataframe tbody tr th:only-of-type {\n",
       "        vertical-align: middle;\n",
       "    }\n",
       "\n",
       "    .dataframe tbody tr th {\n",
       "        vertical-align: top;\n",
       "    }\n",
       "\n",
       "    .dataframe thead th {\n",
       "        text-align: right;\n",
       "    }\n",
       "</style>\n",
       "<table border=\"1\" class=\"dataframe\">\n",
       "  <thead>\n",
       "    <tr style=\"text-align: right;\">\n",
       "      <th></th>\n",
       "      <th>date</th>\n",
       "      <th>datetime</th>\n",
       "      <th>SACTMIN</th>\n",
       "      <th>SPOSTMIN</th>\n",
       "      <th>ride</th>\n",
       "    </tr>\n",
       "  </thead>\n",
       "  <tbody>\n",
       "    <tr>\n",
       "      <th>0</th>\n",
       "      <td>01/01/2015</td>\n",
       "      <td>2015-01-01 07:12:26</td>\n",
       "      <td>NaN</td>\n",
       "      <td>10.0</td>\n",
       "      <td>space_mountain.csv</td>\n",
       "    </tr>\n",
       "    <tr>\n",
       "      <th>1</th>\n",
       "      <td>01/01/2015</td>\n",
       "      <td>2015-01-01 07:12:45</td>\n",
       "      <td>6.0</td>\n",
       "      <td>NaN</td>\n",
       "      <td>space_mountain.csv</td>\n",
       "    </tr>\n",
       "    <tr>\n",
       "      <th>2</th>\n",
       "      <td>01/01/2015</td>\n",
       "      <td>2015-01-01 07:16:12</td>\n",
       "      <td>NaN</td>\n",
       "      <td>10.0</td>\n",
       "      <td>space_mountain.csv</td>\n",
       "    </tr>\n",
       "    <tr>\n",
       "      <th>3</th>\n",
       "      <td>01/01/2015</td>\n",
       "      <td>2015-01-01 07:23:12</td>\n",
       "      <td>NaN</td>\n",
       "      <td>10.0</td>\n",
       "      <td>space_mountain.csv</td>\n",
       "    </tr>\n",
       "    <tr>\n",
       "      <th>4</th>\n",
       "      <td>01/01/2015</td>\n",
       "      <td>2015-01-01 07:29:12</td>\n",
       "      <td>NaN</td>\n",
       "      <td>10.0</td>\n",
       "      <td>space_mountain.csv</td>\n",
       "    </tr>\n",
       "    <tr>\n",
       "      <th>...</th>\n",
       "      <td>...</td>\n",
       "      <td>...</td>\n",
       "      <td>...</td>\n",
       "      <td>...</td>\n",
       "      <td>...</td>\n",
       "    </tr>\n",
       "    <tr>\n",
       "      <th>5654844</th>\n",
       "      <td>12/28/2021</td>\n",
       "      <td>2021-12-28 22:35:34</td>\n",
       "      <td>NaN</td>\n",
       "      <td>15.0</td>\n",
       "      <td>splash_mountain.csv</td>\n",
       "    </tr>\n",
       "    <tr>\n",
       "      <th>5654845</th>\n",
       "      <td>12/28/2021</td>\n",
       "      <td>2021-12-28 22:42:15</td>\n",
       "      <td>NaN</td>\n",
       "      <td>15.0</td>\n",
       "      <td>splash_mountain.csv</td>\n",
       "    </tr>\n",
       "    <tr>\n",
       "      <th>5654846</th>\n",
       "      <td>12/28/2021</td>\n",
       "      <td>2021-12-28 22:48:12</td>\n",
       "      <td>NaN</td>\n",
       "      <td>15.0</td>\n",
       "      <td>splash_mountain.csv</td>\n",
       "    </tr>\n",
       "    <tr>\n",
       "      <th>5654847</th>\n",
       "      <td>12/28/2021</td>\n",
       "      <td>2021-12-28 22:54:10</td>\n",
       "      <td>NaN</td>\n",
       "      <td>15.0</td>\n",
       "      <td>splash_mountain.csv</td>\n",
       "    </tr>\n",
       "    <tr>\n",
       "      <th>5654848</th>\n",
       "      <td>12/28/2021</td>\n",
       "      <td>2021-12-28 23:00:27</td>\n",
       "      <td>NaN</td>\n",
       "      <td>15.0</td>\n",
       "      <td>splash_mountain.csv</td>\n",
       "    </tr>\n",
       "  </tbody>\n",
       "</table>\n",
       "<p>5654849 rows × 5 columns</p>\n",
       "</div>"
      ],
      "text/plain": [
       "               date             datetime  SACTMIN  SPOSTMIN  \\\n",
       "0        01/01/2015  2015-01-01 07:12:26      NaN      10.0   \n",
       "1        01/01/2015  2015-01-01 07:12:45      6.0       NaN   \n",
       "2        01/01/2015  2015-01-01 07:16:12      NaN      10.0   \n",
       "3        01/01/2015  2015-01-01 07:23:12      NaN      10.0   \n",
       "4        01/01/2015  2015-01-01 07:29:12      NaN      10.0   \n",
       "...             ...                  ...      ...       ...   \n",
       "5654844  12/28/2021  2021-12-28 22:35:34      NaN      15.0   \n",
       "5654845  12/28/2021  2021-12-28 22:42:15      NaN      15.0   \n",
       "5654846  12/28/2021  2021-12-28 22:48:12      NaN      15.0   \n",
       "5654847  12/28/2021  2021-12-28 22:54:10      NaN      15.0   \n",
       "5654848  12/28/2021  2021-12-28 23:00:27      NaN      15.0   \n",
       "\n",
       "                        ride  \n",
       "0         space_mountain.csv  \n",
       "1         space_mountain.csv  \n",
       "2         space_mountain.csv  \n",
       "3         space_mountain.csv  \n",
       "4         space_mountain.csv  \n",
       "...                      ...  \n",
       "5654844  splash_mountain.csv  \n",
       "5654845  splash_mountain.csv  \n",
       "5654846  splash_mountain.csv  \n",
       "5654847  splash_mountain.csv  \n",
       "5654848  splash_mountain.csv  \n",
       "\n",
       "[5654849 rows x 5 columns]"
      ]
     },
     "execution_count": 4,
     "metadata": {},
     "output_type": "execute_result"
    }
   ],
   "source": [
    "doc"
   ]
  },
  {
   "cell_type": "code",
   "execution_count": 5,
   "id": "artistic-patent",
   "metadata": {},
   "outputs": [],
   "source": [
    "doc.to_csv(\"/home/jovyan/work/resources/combined_rides.csv\")"
   ]
  },
  {
   "cell_type": "code",
   "execution_count": null,
   "id": "consecutive-rugby",
   "metadata": {},
   "outputs": [],
   "source": []
  }
 ],
 "metadata": {
  "kernelspec": {
   "display_name": "Python 3",
   "language": "python",
   "name": "python3"
  },
  "language_info": {
   "codemirror_mode": {
    "name": "ipython",
    "version": 3
   },
   "file_extension": ".py",
   "mimetype": "text/x-python",
   "name": "python",
   "nbconvert_exporter": "python",
   "pygments_lexer": "ipython3",
   "version": "3.7.10"
  }
 },
 "nbformat": 4,
 "nbformat_minor": 5
}
